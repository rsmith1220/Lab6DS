{
 "cells": [
  {
   "cell_type": "code",
   "execution_count": 3,
   "metadata": {},
   "outputs": [
    {
     "name": "stdout",
     "output_type": "stream",
     "text": [
      "An error occurred: 403 Forbidden\n",
      "453 - You currently have access to a subset of Twitter API v2 endpoints and limited v1.1 endpoints (e.g. media post, oauth) only. If you need access to this endpoint, you may need a different access level. You can learn more here: https://developer.twitter.com/en/portal/product\n"
     ]
    }
   ],
   "source": [
    "import tweepy\n",
    "\n",
    "# Set up API keys and tokens\n",
    "consumer_key = 'p3yzF0yPIp1nMo50uNI86q5Tz'\n",
    "consumer_secret = 'YSxNZtEOnmT1k9FwxzKsSX1BuxMnOPjL6qEmftGdJTIsO4E4Hh'\n",
    "access_token = '1560469930792960001-3kOL9mFbniz1ZDBhf3dThb5nVy8nZL'\n",
    "access_token_secret = '8WkOws4i72tk0oyfIvXa21wgEBz8pIDRD2umJ7wK6o1Dq'\n",
    "\n",
    "# Authenticate with Twitter\n",
    "auth = tweepy.OAuthHandler(consumer_key, consumer_secret)\n",
    "auth.set_access_token(access_token, access_token_secret)\n",
    "\n",
    "# Create an API object\n",
    "api = tweepy.API(auth)\n",
    "\n",
    "try:\n",
    "    # Search for tweets containing the keyword \"#TraficoGT\" in Spanish\n",
    "    for tweet in tweepy.Cursor(api.search_tweets, q='#TraficoGT', lang='esp').items(1):\n",
    "        print(tweet.text)\n",
    "except Exception as e:\n",
    "    print(\"An error occurred:\", e)\n"
   ]
  }
 ],
 "metadata": {
  "kernelspec": {
   "display_name": "Python 3",
   "language": "python",
   "name": "python3"
  },
  "language_info": {
   "codemirror_mode": {
    "name": "ipython",
    "version": 3
   },
   "file_extension": ".py",
   "mimetype": "text/x-python",
   "name": "python",
   "nbconvert_exporter": "python",
   "pygments_lexer": "ipython3",
   "version": "3.11.5"
  },
  "orig_nbformat": 4
 },
 "nbformat": 4,
 "nbformat_minor": 2
}
